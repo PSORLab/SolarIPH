{
 "cells": [
  {
   "attachments": {},
   "cell_type": "markdown",
   "metadata": {},
   "source": [
    "# Assessment of Concentrating Solar Thermal and Photovoltaic Technologies for the Optimal Hybridization of Industrial Process Heat Systems"
   ]
  },
  {
   "attachments": {},
   "cell_type": "markdown",
   "metadata": {},
   "source": [
    "This code is written to model optimal design strategies to reduce fossil fuel consumption in the industrial process heat (IPH) sector by hybridization with solar energy technologies.\n",
    "\n",
    "In this example, we seek to determine the optimal solar array aperture area and energy storage capacity that maximizes the lifecycle savings associated with augmenting a conventional natural gas IPH system. Energy can be generated using Parabolic Trough Collectors (PTCs) or Photovoltaics (PVs) with resistive heating, and energy can be stored as thermal energy (TES) or electrical energy (EES).  Here, we use user-defined functions, the JuMP modeling language, the EAGO spatial branch-and-bound algorithm with custom upper- and lower-bounding procedures, and the IPOPT algorithm for solving the bounding subproblems.\n",
    "\n",
    "In this example, we will solve the optimal design problem for PV-EES (fixed, non-tracking) in Firebaugh, CA with the commercial fuel rate, constant IPH demand of $\\dot q_p=10^4$ kW, and a minimum solar fraction of 85% ($\\xi=0.85$). The code can easily be modified for different technology configurations, process demand, minimum solar fraction, or geographic location.\n"
   ]
  },
  {
   "cell_type": "code",
   "execution_count": 1,
   "metadata": {},
   "outputs": [],
   "source": [
    "using JuMP, EAGO, Ipopt;"
   ]
  },
  {
   "attachments": {},
   "cell_type": "markdown",
   "metadata": {},
   "source": [
    "We will also use the CSV package because our solar resource data (downloaded from the NSRDB) is in a CSV file."
   ]
  },
  {
   "cell_type": "code",
   "execution_count": 2,
   "metadata": {},
   "outputs": [],
   "source": [
    "using CSV, DataFrames, Statistics;"
   ]
  },
  {
   "attachments": {},
   "cell_type": "markdown",
   "metadata": {},
   "source": [
    "The code is organized as follows:  \n",
    "1. We import the solar resource data for the region we are concerned with.  By default, this is the typical meteorological year (TMY) hourly data (8760 data points) which includes the geographic information (coordinates and timezone) as well as the direct normal irradiance (DNI).  Together, we can model the process of concentrating the solar radiation and collecting it as heat in our system.  \n",
    "2. Once we have the resource data, we call \"PTCmodel.jl\" or \"pvModel.jl\" to simulate the specific thermal power of the solar  technology in units of W/m$^2$ given our geographic region and incident angle data.  This function calls \"solarAngles.jl\" to calculate the angles of the direct solar radiation incident to the concentrator aperture with respect to each hour in the TMY data. If we are using pvModel, we must specify 0 or 1-axis tracking. If we are using PTCmodel, it is assumed 1-axis tracking because the technology requires it. \n",
    "4. We define a function closure for the solar fraction calculated by \"iphProcessSmooth.jl\", which simulates the performance of the full solar concentrator and thermal storage system hybridized with the industrial process heat system.  The solar fraction is calculated by Eq. 12 in Stuber (2018) and augmented for this example in a forthcoming manuscript (Eq. 14 in the forthcoming paper).\n",
    "5. We define the custom upper- and lower-bounding optimization subproblems for the spatial branch-and-bound algorithm.  The lower-bounding problem uses the convex capital model for its objective function (Eq. 16 in Stuber (2018)), and the upper-bounding problem uses the nonconvex capital model as its objective function (Eq. 20 in the forthcoming paper).\n",
    "6. We set up the JuMP model with the EAGO optimizer (with custom bounding procedures) and we solve it."
   ]
  },
  {
   "cell_type": "code",
   "execution_count": 3,
   "metadata": {
    "scrolled": true
   },
   "outputs": [
    {
     "data": {
      "text/plain": [
       "\"photovoltaic Power/GHI\""
      ]
     },
     "metadata": {},
     "output_type": "display_data"
    },
    {
     "data": {
      "text/plain": [
       "42.20522371847136"
      ]
     },
     "metadata": {},
     "output_type": "display_data"
    },
    {
     "data": {
      "text/plain": [
       "245.63667954571486"
      ]
     },
     "metadata": {},
     "output_type": "display_data"
    }
   ],
   "source": [
    "include(\"solarAngles.jl\")\n",
    "include(\"PTCmodel.jl\")\n",
    "include(\"iphProcessSmooth.jl\")\n",
    "include(\"lifecycleCost.jl\")\n",
    "include(\"genModel.jl\")\n",
    "include(\"smoothMinMaxAbs.jl\")\n",
    "include(\"locations.jl\")\n",
    "\n",
    "# Step 1: read the data into a table and extract the appropriate data into a vector\n",
    "place = \"Firebaugh\" #Firebaugh, Aurora, Weston\n",
    "track = 0 #0 if no tracking, 1 if tracking, PTC assumes tracking\n",
    "gen = \"PV\" #\"PV\" or \"PTC\" the method we use for generating energy\n",
    "stor = \"EES\" #\"EES\" or \"TES\", the energy storage type\n",
    "qsys = 10 #Average power demand of system in MW\n",
    "ngFT = 9.87 #9.87 or 19.74 price of natural gas in $/ft3 (commercial) https://www.eia.gov/dnav/ng/ng_pri_sum_dcu_SCA_m.htm\n",
    "xi = 0.85 #minimum solar fraction\n",
    "\n",
    "input_file, tz, Lat, Long = locations(place)\n",
    "solData = CSV.File(input_file) |> DataFrame\n",
    "dniData = convert(Array{Float64,1},solData[:,7]) #DNI\n",
    "dhiData = convert(Array{Float64,1},solData[:,6]) #DHI\n",
    "Temp = convert(Array{Float64,1}, solData[:, 11]) #Temp\n",
    "\n",
    "\n",
    "# Step 2: get the specific thermal power potential for the region [W/m^2]\n",
    "q, GHI = genModel(dniData, dhiData, Temp, tz, Lat, Long, track, gen)\n",
    "\n",
    "# Step 3: define the solar fraction closure\n",
    "SolarFrac(xts,xa) = iphProcessSmooth(q,xts,xa, qsys,stor);"
   ]
  },
  {
   "attachments": {},
   "cell_type": "markdown",
   "metadata": {},
   "source": [
    "Step 4 is a bit more complicated as we need to define the custom bounding procedures for the branch-and-bound algorithm.  First, we define an extension type called $\\texttt{SolarExt}$ which allows EAGO to dispatch to the custom bounding routines we plan on defining.  "
   ]
  },
  {
   "cell_type": "code",
   "execution_count": 4,
   "metadata": {},
   "outputs": [],
   "source": [
    "import EAGO: Optimizer, GlobalOptimizer\n",
    "struct SolarExt <: EAGO.ExtensionType end"
   ]
  },
  {
   "attachments": {},
   "cell_type": "markdown",
   "metadata": {},
   "source": [
    "Now, we define the custom lower-bounding problem with the convex capital model."
   ]
  },
  {
   "cell_type": "code",
   "execution_count": 5,
   "metadata": {},
   "outputs": [],
   "source": [
    "# Lower Problem Definition\n",
    "import EAGO.lower_problem!\n",
    "function lower_problem!(t::SolarExt,opt::EAGO.GlobalOptimizer)\n",
    "    \n",
    "    # Get active node\n",
    "    n = opt._current_node\n",
    "    \n",
    "    # Creates model, adds variables, and register nonlinear expressions\n",
    "    m = JuMP.Model(JuMP.optimizer_with_attributes(Ipopt.Optimizer,\n",
    "                    \"tol\"=>1.0e-4,\n",
    "                    \"print_level\"=>0))\n",
    "    xL = n.lower_variable_bounds; xU = n.upper_variable_bounds\n",
    "    @variable(m, xL[i] <= x[i=1:2] <= xU[i])\n",
    "    # define convex lifecycle savings objective function closure\n",
    "    \n",
    "    flcsC(xts,xa) = lifecycleCost(q, xL, xU, xts, xa, :convex, track, gen, stor, ngFT, qsys)\n",
    "    \n",
    "    JuMP.register(m, :flcsC, 2, flcsC, autodiff=true) #register: be aware of exteneral functions\n",
    "    JuMP.register(m, :SolarFrac, 2, SolarFrac, autodiff=true)\n",
    "\n",
    "    # Define nonlinear function\n",
    "    \n",
    "    @NLobjective(m, Max, flcsC(x[1], x[2]))\n",
    "    @NLconstraint(m, g1, SolarFrac(x[1], x[2]) >= xi)# declare constraints\n",
    "    JuMP.optimize!(m)\n",
    "\n",
    "    # Get primal status, termination status, determine if a global solution was obtained\n",
    "    tstatus = MOI.get(m, MOI.TerminationStatus())\n",
    "    pstatus = MOI.get(m, MOI.PrimalStatus())\n",
    "    solution = JuMP.value.(x)\n",
    "    \n",
    "    if EAGO.local_problem_status(tstatus, pstatus) == EAGO.LRS_FEASIBLE\n",
    "        opt._lower_objective_value = -1.0*(JuMP.objective_value(m)-1e-4) # Multiplied by -1 because EAGO expects \"Min\"\n",
    "        opt._lower_solution[1:length(solution)] = solution\n",
    "        opt._lower_feasibility = true\n",
    "        opt._cut_add_flag = false\n",
    "    else\n",
    "        opt._lower_feasibility = false\n",
    "        opt._lower_objective_value = Inf\n",
    "        opt._cut_add_flag = false\n",
    "    end\n",
    "    return\n",
    "end;"
   ]
  },
  {
   "attachments": {},
   "cell_type": "markdown",
   "metadata": {},
   "source": [
    "Now, we define the upper-bounding problem with the nonconvex capital pricing model."
   ]
  },
  {
   "cell_type": "code",
   "execution_count": 6,
   "metadata": {},
   "outputs": [],
   "source": [
    "# Upper Problem Definition\n",
    "import EAGO.upper_problem!\n",
    "function upper_problem!(t::SolarExt,opt::EAGO.GlobalOptimizer)\n",
    "    \n",
    "    # Get active node\n",
    "    n = opt._current_node\n",
    "    \n",
    "    # Creates model, adds variables, and register nonlinear expressions\n",
    "    m = JuMP.Model(JuMP.optimizer_with_attributes(Ipopt.Optimizer,\n",
    "                    \"tol\"=>1.0e-4,\n",
    "                    \"print_level\"=>0))\n",
    "    xL = n.lower_variable_bounds; xU = n.upper_variable_bounds\n",
    "    @variable(m, xL[i] <= x[i=1:2] <= xU[i])\n",
    "    # define lifecycle savings objective function cover\n",
    "\n",
    "    flcs(xts,xa) = lifecycleCost(q, xL, xU, xts, xa, :nonconvex, track, gen, stor, ngFT, qsys)\n",
    "    \n",
    "    JuMP.register(m, :flcs, 2, flcs, autodiff=true)\n",
    "    JuMP.register(m, :SolarFrac, 2, SolarFrac, autodiff=true)\n",
    "\n",
    "    # Define nonlinear function\n",
    "    @NLobjective(m, Max, flcs(x[1], x[2]))\n",
    "    @NLconstraint(m, g1, SolarFrac(x[1], x[2]) >= xi)# declare constraints\n",
    "    JuMP.optimize!(m)\n",
    "\n",
    "    # Get primal status, termination status, determine if a global solution was obtained\n",
    "    tstatus = MOI.get(m, MOI.TerminationStatus())\n",
    "    pstatus = MOI.get(m, MOI.PrimalStatus())\n",
    "    solution = JuMP.value.(x)\n",
    "\n",
    "    if EAGO.local_problem_status(tstatus, pstatus) == EAGO.LRS_FEASIBLE\n",
    "        opt._upper_objective_value = -1.0*JuMP.objective_value(m) # Multiplied by -1 because EAGO expects \"Min\"\n",
    "        opt._upper_solution[1:length(solution)] = solution\n",
    "        opt._upper_feasibility = true\n",
    "    else\n",
    "        opt._upper_feasibility = false\n",
    "        opt._upper_objective_value = Inf\n",
    "        opt._cut_add_flag = false\n",
    "    end\n",
    "    return\n",
    "end;"
   ]
  },
  {
   "attachments": {},
   "cell_type": "markdown",
   "metadata": {},
   "source": [
    "Since we have defined custom bounding routines, we'll disable some unnecessary EAGO subroutines."
   ]
  },
  {
   "cell_type": "code",
   "execution_count": 7,
   "metadata": {},
   "outputs": [],
   "source": [
    "import EAGO: preprocess!, postprocess!, cut_condition\n",
    "function EAGO.preprocess!(t::SolarExt, x::GlobalOptimizer)\n",
    "    x._preprocess_feasibility = true\n",
    "    return\n",
    "end\n",
    "function EAGO.postprocess!(t::SolarExt, x::GlobalOptimizer)\n",
    "    x._postprocess_feasibility = true\n",
    "    return\n",
    "end\n",
    "EAGO.cut_condition(t::SolarExt, x::GlobalOptimizer) = false"
   ]
  },
  {
   "attachments": {},
   "cell_type": "markdown",
   "metadata": {},
   "source": [
    "Now, we define the JuMP model and the variables (and bounds).  We must specify that our new custom extension $\\texttt{SolarExt}$ to EAGO's default routines should be used and that we will be branching on both of our decision variables.  The latter is required for custom routines since no expressions will be provided to the EAGO optimizer and therefore it cannot infer which variables should be branched on. "
   ]
  },
  {
   "cell_type": "code",
   "execution_count": 8,
   "metadata": {},
   "outputs": [],
   "source": [
    "factory = () -> EAGO.Optimizer(SubSolvers(;t=SolarExt()))\n",
    "\n",
    "m = JuMP.Model(optimizer_with_attributes(factory,\n",
    "                    \"relative_tolerance\"=>1e-2,\n",
    "                    \"verbosity\"=>1,\n",
    "                    \"output_iterations\"=>1,\n",
    "                    \"branch_variable\"=>Bool[true; true],\n",
    ")) \n",
    "x_L = [0.0001, 0.0001] #add 5 zeros to test SF > 0.85 constraint\n",
    "x_U = [100, 500000.0] #add 5 zeros to test SF > 0.85 constraint\n",
    "@variable(m, x_L[i] <= x[i=1:2] <= x_U[i]);\n",
    "JuMP.register(m, :SolarFrac, 2, SolarFrac, autodiff=true)\n",
    "@NLconstraint(m, g1, SolarFrac(x[1], x[2]) >= xi);"
   ]
  },
  {
   "attachments": {},
   "cell_type": "markdown",
   "metadata": {},
   "source": [
    "Now, let's solve the problem and print the results."
   ]
  },
  {
   "cell_type": "code",
   "execution_count": 9,
   "metadata": {
    "scrolled": true
   },
   "outputs": [
    {
     "name": "stdout",
     "output_type": "stream",
     "text": [
      "\n",
      "******************************************************************************\n",
      "This program contains Ipopt, a library for large-scale nonlinear optimization.\n",
      " Ipopt is released as open source code under the Eclipse Public License (EPL).\n",
      "         For more information visit https://github.com/coin-or/Ipopt\n",
      "******************************************************************************\n",
      "\n",
      "-----------------------------------------------------------------------------------------------------------------------------\n",
      "|  Iteration #  |     Nodes    | Lower Bound  |  Upper Bound  |      Gap     |     Ratio    |     Time     |    Time Left   |\n",
      "-----------------------------------------------------------------------------------------------------------------------------\n",
      "|            1  |            2 |    4.896E+07 |          Inf |         Inf |          Inf |    1.596E+01 |    3.584E+03 |"
     ]
    },
    {
     "name": "stdout",
     "output_type": "stream",
     "text": [
      "\n",
      "|            2  |            3 |    4.896E+07 |    5.502E+07 |   6.056E+06 |    1.101E-01 |    2.287E+01 |    3.577E+03 |"
     ]
    },
    {
     "name": "stdout",
     "output_type": "stream",
     "text": [
      "\n",
      "|            3  |            2 |    5.354E+07 |    5.502E+07 |   1.471E+06 |    2.674E-02 |    2.295E+01 |    3.577E+03 |\n",
      "|            4  |            3 |    5.354E+07 |    5.502E+07 |   1.471E+06 |    2.674E-02 |    2.321E+01 |    3.577E+03 |"
     ]
    },
    {
     "name": "stdout",
     "output_type": "stream",
     "text": [
      "\n",
      "|            5  |            4 |    5.420E+07 |    5.502E+07 |   8.198E+05 |    1.490E-02 |    2.336E+01 |    3.577E+03 |"
     ]
    },
    {
     "name": "stdout",
     "output_type": "stream",
     "text": [
      "\n",
      "|            6  |            3 |    5.420E+07 |    5.502E+07 |   8.198E+05 |    1.490E-02 |    3.306E+01 |    3.567E+03 |\n",
      "|            7  |            4 |    5.420E+07 |    5.502E+07 |   8.145E+05 |    1.480E-02 |    4.274E+01 |    3.557E+03 |"
     ]
    },
    {
     "name": "stdout",
     "output_type": "stream",
     "text": [
      "\n",
      "|            8  |            3 |    5.420E+07 |    5.502E+07 |   8.145E+05 |    1.480E-02 |    4.283E+01 |    3.557E+03 |\n",
      "|            9  |            4 |    5.428E+07 |    5.502E+07 |   7.395E+05 |    1.344E-02 |    5.250E+01 |    3.548E+03 |"
     ]
    },
    {
     "name": "stdout",
     "output_type": "stream",
     "text": [
      "\n",
      "|           10  |            3 |    5.428E+07 |    5.502E+07 |   7.395E+05 |    1.344E-02 |    5.260E+01 |    3.547E+03 |\n",
      "|           11  |            4 |    5.428E+07 |    5.502E+07 |   7.395E+05 |    1.344E-02 |    5.431E+01 |    3.546E+03 |"
     ]
    },
    {
     "name": "stdout",
     "output_type": "stream",
     "text": [
      "\n",
      "|           12  |            3 |    5.428E+07 |    5.502E+07 |   7.395E+05 |    1.344E-02 |    5.439E+01 |    3.546E+03 |\n",
      "|           13  |            4 |    5.491E+07 |    5.502E+07 |   1.056E+05 |    1.919E-03 |    5.521E+01 |    3.545E+03 |\n",
      " \n",
      "Relative Tolerance Achieved\n",
      "First Solution Found at Node 5\n",
      "LBD = 5.4909619232100055e7\n",
      "UBD = 5.501517150574002e7\n",
      "Solution is:\n",
      "    X[1] = 14.86766956690542\n",
      "    X[2] = 267031.33546399354\n",
      " \n",
      " 61.063245 seconds (34.42 M allocations: 105.782 GiB, 7.01% gc time, 16.97% compilation time: 5% of which was recompilation)"
     ]
    },
    {
     "name": "stdout",
     "output_type": "stream",
     "text": [
      "\n",
      "xts* = 14.86766956690542 xa* = 267031.33546399354 f* = -5.501517150574002e7 SF* = "
     ]
    },
    {
     "name": "stdout",
     "output_type": "stream",
     "text": [
      "0.8499999900000049\n",
      "Algorithm terminated with a status of OPTIMAL and a result code of FEASIBLE_POINT\n"
     ]
    }
   ],
   "source": [
    "@time JuMP.optimize!(m)\n",
    "\n",
    "println(\"xts* = \", JuMP.value(x[1]), \" xa* = \",\n",
    "         JuMP.value(x[2]),\" f* = \",-1.0*JuMP.objective_value(m),\" SF* = \",\n",
    "         SolarFrac(JuMP.value(x[1]),JuMP.value(x[2])))\n",
    "TermStatus = JuMP.termination_status(m)\n",
    "PrimStatus = JuMP.primal_status(m)\n",
    "println(\"Algorithm terminated with a status of $TermStatus and a result code of $PrimStatus\")"
   ]
  }
 ],
 "metadata": {
  "@webio": {
   "lastCommId": null,
   "lastKernelId": null
  },
  "kernelspec": {
   "display_name": "Julia 1.9.1",
   "language": "julia",
   "name": "julia-1.9"
  },
  "language_info": {
   "file_extension": ".jl",
   "mimetype": "application/julia",
   "name": "julia",
   "version": "1.9.1"
  }
 },
 "nbformat": 4,
 "nbformat_minor": 4
}
